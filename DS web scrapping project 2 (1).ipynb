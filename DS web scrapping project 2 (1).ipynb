{
 "cells": [
  {
   "cell_type": "code",
   "execution_count": 2,
   "id": "ea9d419f",
   "metadata": {},
   "outputs": [
    {
     "name": "stdout",
     "output_type": "stream",
     "text": [
      "IST Networks - Maadi, Cairo, Egypt  Full Time\n",
      "Agolo Egypt - Cairo, Egypt  Full Time\n",
      "TEMPO - New Cairo, Cairo, Egypt  Full TimeFreelance / Project\n",
      "IAP Worldwide Services, Inc - Doha, Qatar  Full Time\n",
      "LINK Development - Cairo, Egypt  Full Time\n",
      "Ejada  - Cairo, Egypt  Full Time\n",
      "Anspire Agency - New Cairo, Cairo, Egypt  Full Time\n",
      "Uniphore - Riyadh, Saudi Arabia  Full Time\n",
      "Bydotpy - New Cairo, Cairo, Egypt  Full Time\n",
      "Confidential - Stanley, Alexandria, Egypt  Full Time\n",
      "AK IT Consulting - Nasr City, Cairo, Egypt  Full Time\n",
      "Confidential - Giza, Giza, Egypt  Full Time\n",
      "arabtesting - Dokki, Giza, Egypt  Full TimePart TimeFreelance / Project\n",
      "EpsilonAI - Nasr City, Cairo, Egypt  Full TimePart TimeFreelance / Project\n",
      "Just Mood for Marketing Services  - Cairo, Egypt  Part TimeFreelance / ProjectWork From Home\n"
     ]
    }
   ],
   "source": [
    "from bs4 import BeautifulSoup\n",
    "import requests\n",
    "website=requests.get(\"https://wuzzuf.net/search/jobs/?q=ai+&a=hpb\").text\n",
    "\n",
    "website=BeautifulSoup(website, 'lxml')    #lxml parser \n",
    "\n",
    "\n",
    "jop=website.find(\"div\",class_=\"css-pkv5jc\")\n",
    "#print (jop)\n",
    "\n",
    "company=jop.find(\"div\",class_=\"css-d7j1kk\").a.text\n",
    "#print(company)\n",
    "\n",
    "location=jop.find(\"span\",class_=\"css-5wys0k\").text\n",
    "#print(location)\n",
    "\n",
    "jop_title=jop.find(\"div\",class_=\"css-1lh32fc\").text\n",
    "#print(jop_title)\n",
    "\n",
    "\n",
    "# da kda e7na gebna awl saf7a bas*\n",
    "\n",
    "jops=website.find_all(\"div\",class_=\"css-pkv5jc\")\n",
    "for jop in jops:\n",
    "    company=jop.find(\"div\",class_=\"css-d7j1kk\").a.text\n",
    "    location=jop.find(\"span\",class_=\"css-5wys0k\").text\n",
    "    jop_title=jop.find(\"div\",class_=\"css-1lh32fc\").text\n",
    "    print(company , location , jop_title)\n",
    "\n",
    "# aft7 file csv 3l4an a store feha eldataaaaa\n",
    "import csv\n",
    "csv_file=open(r\"C:\\Users\\kirol\\OneDrive\\Desktop\\Data analytics files\\AIJO0PS.csv\",\"w\",encoding=\"utf-8\")\n",
    "writer=csv.writer(csv_file)\n",
    "writer.writerow(['company',' location','jop_title'])\n",
    "\n",
    "jops=website.find_all(\"div\",class_=\"css-pkv5jc\")\n",
    "for jop in jops:\n",
    "    company=jop.find(\"div\",class_=\"css-d7j1kk\").a.text\n",
    "    location=jop.find(\"span\",class_=\"css-5wys0k\").text\n",
    "    jop_title=jop.find(\"div\",class_=\"css-1lh32fc\").text\n",
    "    writer.writerow([company, location,jop_title])\n",
    "   \n",
    "csv_file.close()"
   ]
  },
  {
   "cell_type": "code",
   "execution_count": null,
   "id": "dbe3e0d2",
   "metadata": {},
   "outputs": [],
   "source": []
  }
 ],
 "metadata": {
  "kernelspec": {
   "display_name": "Python 3 (ipykernel)",
   "language": "python",
   "name": "python3"
  },
  "language_info": {
   "codemirror_mode": {
    "name": "ipython",
    "version": 3
   },
   "file_extension": ".py",
   "mimetype": "text/x-python",
   "name": "python",
   "nbconvert_exporter": "python",
   "pygments_lexer": "ipython3",
   "version": "3.11.4"
  }
 },
 "nbformat": 4,
 "nbformat_minor": 5
}
